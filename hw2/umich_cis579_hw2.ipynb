{
  "nbformat": 4,
  "nbformat_minor": 0,
  "metadata": {
    "colab": {
      "name": "umich-cis579-hw2.ipynb",
      "provenance": [],
      "authorship_tag": "ABX9TyOpAXwWG0LJCDBylvhGMe4X",
      "include_colab_link": true
    },
    "kernelspec": {
      "name": "python3",
      "display_name": "Python 3"
    }
  },
  "cells": [
    {
      "cell_type": "markdown",
      "metadata": {
        "id": "view-in-github",
        "colab_type": "text"
      },
      "source": [
        "<a href=\"https://colab.research.google.com/github/rmwiesenberg/cis579/blob/master/hw2/umich_cis579_hw2.ipynb\" target=\"_parent\"><img src=\"https://colab.research.google.com/assets/colab-badge.svg\" alt=\"Open In Colab\"/></a>"
      ]
    },
    {
      "cell_type": "code",
      "metadata": {
        "id": "oYvY36TimG6c",
        "colab_type": "code",
        "colab": {}
      },
      "source": [
        "from typing import Tuple, List\n",
        "\n",
        "class Node:\n",
        "    \"\"\"\n",
        "    Node representing the river's state at a given point\n",
        "    \"\"\"\n",
        "\n",
        "    def __init__(\n",
        "            self,\n",
        "            origin_state: Tuple[int, int],\n",
        "            target_state: Tuple[int, int],\n",
        "            boat_location: bool\n",
        "    ):\n",
        "        \"\"\"\n",
        "        origin_state: (missionaries, cultists) at origin side\n",
        "        target_state: (missionaries, cultists) at target side\n",
        "        boat_location: bool; T for Target, F for Origin\n",
        "        \"\"\"\n",
        "\n",
        "        self.origin_state = origin_state\n",
        "        self.target_state = target_state\n",
        "        self.boat_location = boat_location\n",
        "        self.attached_nodes: List['Node'] = []\n",
        "\n",
        "    def __repr__(self):\n",
        "        str_out = (\n",
        "            f\"({self.origin_state[0]}|{self.origin_state[1]}, \"\n",
        "            f\"{self.target_state[0]}|{self.target_state[1]}, \"\n",
        "        )\n",
        "        if self.boat_location:\n",
        "            str_out += \"T\"\n",
        "        else:\n",
        "            str_out += \"O\"\n",
        "        return str_out + \")\""
      ],
      "execution_count": 0,
      "outputs": []
    },
    {
      "cell_type": "code",
      "metadata": {
        "id": "na2xg2i5mdv_",
        "colab_type": "code",
        "colab": {}
      },
      "source": [
        "# hand create state space diagram\n",
        "start_state = Node((3, 3), (0, 0), False)\n",
        "\n",
        "n11 = Node((2, 2), (1, 1), True)\n",
        "n12 = Node((3, 2), (0, 1), True)\n",
        "n13 = Node((3, 1), (0, 2), True)\n",
        "\n",
        "n21 = Node((3, 2), (0, 1), False)\n",
        "n31 = Node((3, 0), (0, 3), True)\n",
        "n41 = Node((3, 1), (0, 2), False)\n",
        "n51 = Node((1, 1), (2, 2), True)\n",
        "n61 = Node((2, 2), (1, 1), False)\n",
        "n71 = Node((0, 2), (3, 1), True)\n",
        "n81 = Node((0, 3), (3, 0), False)\n",
        "n91 = Node((0, 1), (3, 2), True)\n",
        "\n",
        "n101 = Node((0, 2), (3, 1), False)\n",
        "n102 = Node((0, 1), (3, 2), False)\n",
        "n103 = Node((1, 1), (2, 2), False)\n",
        "goal_state = Node((0, 0), (3, 3), True)\n",
        "\n",
        "start_state.attached_nodes = [n11, n12, n13]\n",
        "\n",
        "n11.attached_nodes = [start_state, n21]\n",
        "n12.attached_nodes = [start_state]\n",
        "n13.attached_nodes = [start_state, n21]\n",
        "\n",
        "n21.attached_nodes = [n11, n13, n31]\n",
        "n31.attached_nodes = [n21, n41]\n",
        "n41.attached_nodes = [n31, n51]\n",
        "n51.attached_nodes = [n41, n61]\n",
        "n61.attached_nodes = [n51, n71]\n",
        "n71.attached_nodes = [n61, n81]\n",
        "n81.attached_nodes = [n71, n91]\n",
        "n91.attached_nodes = [n81, n101, n103]\n",
        "\n",
        "n101.attached_nodes = [n91, goal_state]\n",
        "n102.attached_nodes = [goal_state]\n",
        "n103.attached_nodes = [n91, goal_state]\n",
        "\n",
        "goal_state.attached_nodes = [n101, n102, n103]"
      ],
      "execution_count": 0,
      "outputs": []
    },
    {
      "cell_type": "code",
      "metadata": {
        "id": "AIZCn5PtmoUX",
        "colab_type": "code",
        "colab": {
          "base_uri": "https://localhost:8080/",
          "height": 373
        },
        "outputId": "c00c751e-9418-4dd6-fecb-631d5d589ca9"
      },
      "source": [
        "def breadth_first_search():\n",
        "    print(\"Begin breadth-first\")\n",
        "    visited_nodes = []\n",
        "    paths_to_check = [[start_state]]\n",
        "\n",
        "    first_goal_path = None\n",
        "    while paths_to_check:\n",
        "        path = paths_to_check.pop(0)\n",
        "        most_recent_node = path[-1]\n",
        "        if most_recent_node in visited_nodes:\n",
        "            continue\n",
        "        print(f\"Checking {most_recent_node}\")\n",
        "        visited_nodes.append(most_recent_node)\n",
        "        if most_recent_node == goal_state:\n",
        "            first_goal_path = path\n",
        "            print(f\"Found goal node {most_recent_node}\")\n",
        "            break\n",
        "        for attached_node in most_recent_node.attached_nodes:\n",
        "            if attached_node not in visited_nodes:\n",
        "                paths_to_check.append(path + [attached_node])\n",
        "    if not first_goal_path:\n",
        "        print(\"Did not find goal node\")\n",
        "    else:\n",
        "        print(f\"{len(visited_nodes)} nodes checked\")\n",
        "        print(f\"Final path: {first_goal_path}\")\n",
        "    print(\"End breadth-first\")\n",
        "  \n",
        "breadth_first_search()"
      ],
      "execution_count": 5,
      "outputs": [
        {
          "output_type": "stream",
          "text": [
            "Begin breadth-first\n",
            "Checking (3|3, 0|0, O)\n",
            "Checking (2|2, 1|1, T)\n",
            "Checking (3|2, 0|1, T)\n",
            "Checking (3|1, 0|2, T)\n",
            "Checking (3|2, 0|1, O)\n",
            "Checking (3|0, 0|3, T)\n",
            "Checking (3|1, 0|2, O)\n",
            "Checking (1|1, 2|2, T)\n",
            "Checking (2|2, 1|1, O)\n",
            "Checking (0|2, 3|1, T)\n",
            "Checking (0|3, 3|0, O)\n",
            "Checking (0|1, 3|2, T)\n",
            "Checking (0|2, 3|1, O)\n",
            "Checking (1|1, 2|2, O)\n",
            "Checking (0|0, 3|3, T)\n",
            "Found goal node (0|0, 3|3, T)\n",
            "15 nodes checked\n",
            "Final path: [(3|3, 0|0, O), (2|2, 1|1, T), (3|2, 0|1, O), (3|0, 0|3, T), (3|1, 0|2, O), (1|1, 2|2, T), (2|2, 1|1, O), (0|2, 3|1, T), (0|3, 3|0, O), (0|1, 3|2, T), (0|2, 3|1, O), (0|0, 3|3, T)]\n",
            "End breadth-first\n"
          ],
          "name": "stdout"
        }
      ]
    },
    {
      "cell_type": "code",
      "metadata": {
        "id": "txDB-Zvkmwfw",
        "colab_type": "code",
        "colab": {
          "base_uri": "https://localhost:8080/",
          "height": 322
        },
        "outputId": "40209600-bd41-4c0c-dd41-c005baa30f1f"
      },
      "source": [
        "def depth_first_search():\n",
        "    print(\"Begin depth-first\")\n",
        "    visited_nodes = []\n",
        "    paths_to_check = [[start_state]]\n",
        "\n",
        "    first_goal_path = None\n",
        "    while paths_to_check:\n",
        "        path = paths_to_check.pop()\n",
        "        most_recent_node = path[-1]\n",
        "        if most_recent_node in visited_nodes:\n",
        "            continue\n",
        "        print(f\"Checking {most_recent_node}\")\n",
        "        visited_nodes.append(most_recent_node)\n",
        "        if most_recent_node == goal_state:\n",
        "            first_goal_path = path\n",
        "            print(f\"Found goal node {most_recent_node}\")\n",
        "            break\n",
        "        for attached_node in most_recent_node.attached_nodes:\n",
        "            if attached_node not in visited_nodes:\n",
        "                paths_to_check.append(path + [attached_node])\n",
        "    if not first_goal_path:\n",
        "        print(\"Did not find goal node\")\n",
        "    else:\n",
        "        print(f\"{len(visited_nodes)} nodes checked\")\n",
        "        print(f\"Final path: {first_goal_path}\")\n",
        "    print(\"End depth-first\")\n",
        "  \n",
        "depth_first_search()"
      ],
      "execution_count": 7,
      "outputs": [
        {
          "output_type": "stream",
          "text": [
            "Begin depth-first\n",
            "Checking (3|3, 0|0, O)\n",
            "Checking (3|1, 0|2, T)\n",
            "Checking (3|2, 0|1, O)\n",
            "Checking (3|0, 0|3, T)\n",
            "Checking (3|1, 0|2, O)\n",
            "Checking (1|1, 2|2, T)\n",
            "Checking (2|2, 1|1, O)\n",
            "Checking (0|2, 3|1, T)\n",
            "Checking (0|3, 3|0, O)\n",
            "Checking (0|1, 3|2, T)\n",
            "Checking (1|1, 2|2, O)\n",
            "Checking (0|0, 3|3, T)\n",
            "Found goal node (0|0, 3|3, T)\n",
            "12 nodes checked\n",
            "Final path: [(3|3, 0|0, O), (3|1, 0|2, T), (3|2, 0|1, O), (3|0, 0|3, T), (3|1, 0|2, O), (1|1, 2|2, T), (2|2, 1|1, O), (0|2, 3|1, T), (0|3, 3|0, O), (0|1, 3|2, T), (1|1, 2|2, O), (0|0, 3|3, T)]\n",
            "End depth-first\n"
          ],
          "name": "stdout"
        }
      ]
    },
    {
      "cell_type": "code",
      "metadata": {
        "id": "URV6ahbRm1Yp",
        "colab_type": "code",
        "colab": {
          "base_uri": "https://localhost:8080/",
          "height": 373
        },
        "outputId": "33b82c4a-5b49-48c5-9c9b-65db0dd3840c"
      },
      "source": [
        "def astar_search():\n",
        "    print(\"Begin A*\")\n",
        "\n",
        "    def h(node: Node) -> float:\n",
        "        # divided by 2 to provide consistency\n",
        "        return ((3 - node.target_state[0])\n",
        "                + (3 - node.target_state[1])) / 2\n",
        "\n",
        "    visited_nodes = []\n",
        "\n",
        "    # each path: (path_so_far, accumulated_code)\n",
        "    paths_to_check = [([start_state], 0)]\n",
        "\n",
        "    first_goal_path = None\n",
        "    while paths_to_check:\n",
        "        path, path_cost = paths_to_check.pop(0)\n",
        "        most_recent_node = path[-1]\n",
        "        if most_recent_node in visited_nodes:\n",
        "            continue\n",
        "        print(f\"Checking {most_recent_node}: \"\n",
        "              f\"p = {path_cost}: \"\n",
        "              f\"h = {h(most_recent_node)}\")\n",
        "        visited_nodes.append(most_recent_node)\n",
        "        if most_recent_node == goal_state:\n",
        "            first_goal_path = path\n",
        "            print(f\"Found goal node {most_recent_node}\")\n",
        "            break\n",
        "        for attached_node in most_recent_node.attached_nodes:\n",
        "            if attached_node not in visited_nodes:\n",
        "                paths_to_check.append((path + [attached_node], path_cost + 1))\n",
        "        paths_to_check = sorted(\n",
        "            paths_to_check,\n",
        "            key=lambda x: x[1] + h(x[0][-1])\n",
        "        )\n",
        "    if not first_goal_path:\n",
        "        print(\"Did not find goal node\")\n",
        "    else:\n",
        "        print(f\"{len(visited_nodes)} nodes checked\")\n",
        "        print(f\"Final path: {first_goal_path}\")\n",
        "    print(\"End A*\")\n",
        "\n",
        "astar_search()"
      ],
      "execution_count": 8,
      "outputs": [
        {
          "output_type": "stream",
          "text": [
            "Begin A*\n",
            "Checking (3|3, 0|0, O): p = 0: h = 3.0\n",
            "Checking (2|2, 1|1, T): p = 1: h = 2.0\n",
            "Checking (3|1, 0|2, T): p = 1: h = 2.0\n",
            "Checking (3|2, 0|1, T): p = 1: h = 2.5\n",
            "Checking (3|2, 0|1, O): p = 2: h = 2.5\n",
            "Checking (3|0, 0|3, T): p = 3: h = 1.5\n",
            "Checking (3|1, 0|2, O): p = 4: h = 2.0\n",
            "Checking (1|1, 2|2, T): p = 5: h = 1.0\n",
            "Checking (2|2, 1|1, O): p = 6: h = 2.0\n",
            "Checking (0|2, 3|1, T): p = 7: h = 1.0\n",
            "Checking (0|3, 3|0, O): p = 8: h = 1.5\n",
            "Checking (0|1, 3|2, T): p = 9: h = 0.5\n",
            "Checking (0|2, 3|1, O): p = 10: h = 1.0\n",
            "Checking (1|1, 2|2, O): p = 10: h = 1.0\n",
            "Checking (0|0, 3|3, T): p = 11: h = 0.0\n",
            "Found goal node (0|0, 3|3, T)\n",
            "15 nodes checked\n",
            "Final path: [(3|3, 0|0, O), (2|2, 1|1, T), (3|2, 0|1, O), (3|0, 0|3, T), (3|1, 0|2, O), (1|1, 2|2, T), (2|2, 1|1, O), (0|2, 3|1, T), (0|3, 3|0, O), (0|1, 3|2, T), (0|2, 3|1, O), (0|0, 3|3, T)]\n",
            "End A*\n"
          ],
          "name": "stdout"
        }
      ]
    }
  ]
}